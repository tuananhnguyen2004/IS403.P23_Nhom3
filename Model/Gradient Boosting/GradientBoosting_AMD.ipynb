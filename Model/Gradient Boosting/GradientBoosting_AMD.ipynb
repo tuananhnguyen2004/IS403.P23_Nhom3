{
 "cells": [
  {
   "cell_type": "code",
   "execution_count": 7,
   "id": "e2dd47ea",
   "metadata": {},
   "outputs": [
    {
     "name": "stdout",
     "output_type": "stream",
     "text": [
      "         Date  Price   Open   High    Low    Vol. Change %\n",
      "0  04/15/2025  95.29  94.66  96.85  94.62  28.12M    0.84%\n",
      "1  04/14/2025  94.50  97.11  97.37  93.45  36.00M    1.18%\n",
      "2  04/11/2025  93.40  90.51  94.76  90.50  57.89M    5.30%\n",
      "3  04/10/2025  88.70  91.00  92.95  85.06  65.21M   -8.41%\n",
      "4  04/09/2025  96.84  79.22  97.91  78.87  97.83M   23.82%\n",
      "<class 'pandas.core.frame.DataFrame'>\n",
      "RangeIndex: 1077 entries, 0 to 1076\n",
      "Data columns (total 7 columns):\n",
      " #   Column    Non-Null Count  Dtype  \n",
      "---  ------    --------------  -----  \n",
      " 0   Date      1077 non-null   object \n",
      " 1   Price     1077 non-null   float64\n",
      " 2   Open      1077 non-null   float64\n",
      " 3   High      1077 non-null   float64\n",
      " 4   Low       1077 non-null   float64\n",
      " 5   Vol.      1077 non-null   object \n",
      " 6   Change %  1077 non-null   object \n",
      "dtypes: float64(4), object(3)\n",
      "memory usage: 59.0+ KB\n",
      "None\n"
     ]
    }
   ],
   "source": [
    "import pandas as pd\n",
    "\n",
    "data = pd.read_csv('../../Dataset/amd_stock_price.csv')\n",
    "print(data.head())\n",
    "print(data.info())"
   ]
  },
  {
   "cell_type": "code",
   "execution_count": 20,
   "id": "f878fc53",
   "metadata": {},
   "outputs": [
    {
     "name": "stdout",
     "output_type": "stream",
     "text": [
      "Date\n",
      "2025-04-15     0.84\n",
      "2025-04-14     1.18\n",
      "2025-04-11     5.30\n",
      "2025-04-10    -8.41\n",
      "2025-04-09    23.82\n",
      "Name: Change %, dtype: float64\n",
      "float64\n"
     ]
    }
   ],
   "source": [
    "print(data['Change %'].head())  # Xem trước dữ liệu\n",
    "print(data['Change %'].dtype)  # Kiểm tra kiểu dữ liệu"
   ]
  },
  {
   "cell_type": "code",
   "execution_count": 21,
   "id": "053e43e5",
   "metadata": {},
   "outputs": [],
   "source": [
    "data['Change %'] = data['Change %'].astype(str).str.replace('%', '').astype(float)"
   ]
  },
  {
   "cell_type": "code",
   "execution_count": 22,
   "id": "908d23df",
   "metadata": {},
   "outputs": [],
   "source": [
    "data['Change %'] = data['Change %'].fillna('0').astype(str).str.replace('%', '').astype(float)"
   ]
  },
  {
   "cell_type": "code",
   "execution_count": 23,
   "id": "a0fce4ba",
   "metadata": {},
   "outputs": [
    {
     "name": "stdout",
     "output_type": "stream",
     "text": [
      "         Date  Price   Open   High    Low    Vol. Change %\n",
      "0  04/15/2025  95.29  94.66  96.85  94.62  28.12M    0.84%\n",
      "1  04/14/2025  94.50  97.11  97.37  93.45  36.00M    1.18%\n",
      "2  04/11/2025  93.40  90.51  94.76  90.50  57.89M    5.30%\n",
      "3  04/10/2025  88.70  91.00  92.95  85.06  65.21M   -8.41%\n",
      "4  04/09/2025  96.84  79.22  97.91  78.87  97.83M   23.82%\n",
      "<class 'pandas.core.frame.DataFrame'>\n",
      "RangeIndex: 1077 entries, 0 to 1076\n",
      "Data columns (total 7 columns):\n",
      " #   Column    Non-Null Count  Dtype  \n",
      "---  ------    --------------  -----  \n",
      " 0   Date      1077 non-null   object \n",
      " 1   Price     1077 non-null   float64\n",
      " 2   Open      1077 non-null   float64\n",
      " 3   High      1077 non-null   float64\n",
      " 4   Low       1077 non-null   float64\n",
      " 5   Vol.      1077 non-null   object \n",
      " 6   Change %  1077 non-null   object \n",
      "dtypes: float64(4), object(3)\n",
      "memory usage: 59.0+ KB\n",
      "None\n",
      "0     0.84\n",
      "1     1.18\n",
      "2     5.30\n",
      "3    -8.41\n",
      "4    23.82\n",
      "Name: Change %, dtype: float64\n"
     ]
    }
   ],
   "source": [
    "import pandas as pd\n",
    "\n",
    "# Đọc dữ liệu\n",
    "data = pd.read_csv('../../Dataset/amd_stock_price.csv')\n",
    "\n",
    "# Kiểm tra dữ liệu\n",
    "print(data.head())\n",
    "print(data.info())\n",
    "\n",
    "# Loại bỏ ký tự '%' và chuyển đổi sang kiểu float\n",
    "data['Change %'] = data['Change %'].astype(str).str.replace('%', '').astype(float)\n",
    "\n",
    "# Kiểm tra lại dữ liệu sau khi xử lý\n",
    "print(data['Change %'].head())"
   ]
  }
 ],
 "metadata": {
  "kernelspec": {
   "display_name": "Python 3",
   "language": "python",
   "name": "python3"
  },
  "language_info": {
   "codemirror_mode": {
    "name": "ipython",
    "version": 3
   },
   "file_extension": ".py",
   "mimetype": "text/x-python",
   "name": "python",
   "nbconvert_exporter": "python",
   "pygments_lexer": "ipython3",
   "version": "3.13.2"
  }
 },
 "nbformat": 4,
 "nbformat_minor": 5
}
