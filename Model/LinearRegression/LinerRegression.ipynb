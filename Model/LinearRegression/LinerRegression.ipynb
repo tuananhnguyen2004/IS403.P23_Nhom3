{
 "cells": [
  {
   "cell_type": "code",
   "execution_count": 23,
   "id": "6e0a8267",
   "metadata": {},
   "outputs": [],
   "source": [
    "import pandas as pd\n",
    "import numpy as np\n",
    "from sklearn.model_selection import train_test_split\n",
    "from sklearn.linear_model import LinearRegression\n",
    "from sklearn.metrics import mean_squared_error, r2_score\n",
    "from sklearn.preprocessing import StandardScaler"
   ]
  },
  {
   "cell_type": "code",
   "execution_count": 24,
   "id": "29be970e",
   "metadata": {},
   "outputs": [
    {
     "name": "stdout",
     "output_type": "stream",
     "text": [
      "   Customer ID  Age Gender Item Purchased  Category  Purchase Amount (USD)  \\\n",
      "0            1   55   Male         Blouse  Clothing                     53   \n",
      "1            2   19   Male        Sweater  Clothing                     64   \n",
      "2            3   50   Male          Jeans  Clothing                     73   \n",
      "3            4   21   Male        Sandals  Footwear                     90   \n",
      "4            5   45   Male         Blouse  Clothing                     49   \n",
      "\n",
      "        Location Size      Color  Season  Review Rating Subscription Status  \\\n",
      "0       Kentucky    L       Gray  Winter            3.1                 Yes   \n",
      "1          Maine    L     Maroon  Winter            3.1                 Yes   \n",
      "2  Massachusetts    S     Maroon  Spring            3.1                 Yes   \n",
      "3   Rhode Island    M     Maroon  Spring            3.5                 Yes   \n",
      "4         Oregon    M  Turquoise  Spring            2.7                 Yes   \n",
      "\n",
      "   Shipping Type Payment Method Frequency of Purchases  \n",
      "0        Express          Venmo            Fortnightly  \n",
      "1        Express           Cash            Fortnightly  \n",
      "2  Free Shipping    Credit Card                 Weekly  \n",
      "3   Next Day Air         PayPal                 Weekly  \n",
      "4  Free Shipping         PayPal               Annually  \n",
      "<class 'pandas.core.frame.DataFrame'>\n",
      "RangeIndex: 3900 entries, 0 to 3899\n",
      "Data columns (total 15 columns):\n",
      " #   Column                  Non-Null Count  Dtype  \n",
      "---  ------                  --------------  -----  \n",
      " 0   Customer ID             3900 non-null   int64  \n",
      " 1   Age                     3900 non-null   int64  \n",
      " 2   Gender                  3900 non-null   object \n",
      " 3   Item Purchased          3900 non-null   object \n",
      " 4   Category                3900 non-null   object \n",
      " 5   Purchase Amount (USD)   3900 non-null   int64  \n",
      " 6   Location                3900 non-null   object \n",
      " 7   Size                    3900 non-null   object \n",
      " 8   Color                   3900 non-null   object \n",
      " 9   Season                  3900 non-null   object \n",
      " 10  Review Rating           3900 non-null   float64\n",
      " 11  Subscription Status     3900 non-null   object \n",
      " 12  Shipping Type           3900 non-null   object \n",
      " 13  Payment Method          3900 non-null   object \n",
      " 14  Frequency of Purchases  3900 non-null   object \n",
      "dtypes: float64(1), int64(3), object(11)\n",
      "memory usage: 457.2+ KB\n",
      "None\n"
     ]
    }
   ],
   "source": [
    "# Đọc dữ liệu từ file CSV\n",
    "data = pd.read_csv(r'c:\\Users\\Hp\\IS403.P23_Nhom3\\Dataset\\shopping_behavior_updated.csv')\n",
    "\n",
    "# Hiển thị thông tin cơ bản\n",
    "print(data.head())\n",
    "print(data.info())"
   ]
  },
  {
   "cell_type": "code",
   "execution_count": 25,
   "id": "1323f1fc",
   "metadata": {},
   "outputs": [
    {
     "name": "stdout",
     "output_type": "stream",
     "text": [
      "Customer ID               0\n",
      "Age                       0\n",
      "Gender                    0\n",
      "Item Purchased            0\n",
      "Category                  0\n",
      "Purchase Amount (USD)     0\n",
      "Location                  0\n",
      "Size                      0\n",
      "Color                     0\n",
      "Season                    0\n",
      "Review Rating             0\n",
      "Subscription Status       0\n",
      "Shipping Type             0\n",
      "Payment Method            0\n",
      "Frequency of Purchases    0\n",
      "dtype: int64\n"
     ]
    }
   ],
   "source": [
    "# Kiểm tra giá trị bị thiếu\n",
    "print(data.isnull().sum())\n",
    "\n",
    "# Xóa các hàng bị thiếu (nếu cần)\n",
    "data = data.dropna()"
   ]
  },
  {
   "cell_type": "code",
   "execution_count": 26,
   "id": "d3ca30ef",
   "metadata": {},
   "outputs": [],
   "source": [
    "# Biến mục tiêu\n",
    "y = data['Purchase Amount (USD)']\n",
    "\n",
    "# Biến đầu vào\n",
    "X = data.drop(['Customer ID', 'Item Purchased', 'Purchase Amount (USD)', 'Location', 'Color', 'Size'], axis=1)"
   ]
  },
  {
   "cell_type": "code",
   "execution_count": 29,
   "id": "016748fa",
   "metadata": {},
   "outputs": [
    {
     "name": "stdout",
     "output_type": "stream",
     "text": [
      "Age                              int64\n",
      "Review Rating                  float64\n",
      "Frequency of Purchases          object\n",
      "Gender_Male                       bool\n",
      "Category_Clothing                 bool\n",
      "Category_Footwear                 bool\n",
      "Category_Outerwear                bool\n",
      "Season_Spring                     bool\n",
      "Season_Summer                     bool\n",
      "Season_Winter                     bool\n",
      "Subscription Status_Yes           bool\n",
      "Shipping Type_Express             bool\n",
      "Shipping Type_Free Shipping       bool\n",
      "Shipping Type_Next Day Air        bool\n",
      "Shipping Type_Standard            bool\n",
      "Shipping Type_Store Pickup        bool\n",
      "Payment Method_Cash               bool\n",
      "Payment Method_Credit Card        bool\n",
      "Payment Method_Debit Card         bool\n",
      "Payment Method_PayPal             bool\n",
      "Payment Method_Venmo              bool\n",
      "dtype: object\n"
     ]
    }
   ],
   "source": [
    "# Kiểm tra kiểu dữ liệu của các cột trong X\n",
    "print(X.dtypes)\n",
    "\n",
    "# Mã hóa cột 'Frequency of Purchases' nếu tồn tại\n",
    "from sklearn.preprocessing import LabelEncoder\n",
    "\n",
    "if 'Frequency of Purchases' in X.columns:\n",
    "    le = LabelEncoder()\n",
    "    X['Frequency of Purchases'] = le.fit_transform(X['Frequency of Purchases'])\n",
    "\n",
    "# Loại bỏ các cột không cần thiết (nếu có)\n",
    "X = X.drop(columns=['Frequency of Purchases'], errors='ignore')\n",
    "\n",
    "# Chuyển đổi tất cả các cột trong X sang kiểu float\n",
    "X = X.astype(float)"
   ]
  },
  {
   "cell_type": "code",
   "execution_count": 30,
   "id": "2b3abd52",
   "metadata": {},
   "outputs": [],
   "source": [
    "scaler = StandardScaler()\n",
    "X = scaler.fit_transform(X)"
   ]
  },
  {
   "cell_type": "code",
   "execution_count": 31,
   "id": "2b2edd1e",
   "metadata": {},
   "outputs": [],
   "source": [
    "scaler = StandardScaler()\n",
    "X = scaler.fit_transform(X)"
   ]
  },
  {
   "cell_type": "code",
   "execution_count": 32,
   "id": "ffb5e8f3",
   "metadata": {},
   "outputs": [],
   "source": [
    "X_train, X_test, y_train, y_test = train_test_split(X, y, test_size=0.2, random_state=42)"
   ]
  },
  {
   "cell_type": "code",
   "execution_count": 33,
   "id": "b9ef6098",
   "metadata": {},
   "outputs": [
    {
     "name": "stdout",
     "output_type": "stream",
     "text": [
      "Intercept: 60.156757537021676\n",
      "Coefficients: [-0.27663367  0.6370185  -0.26837     0.3252054   0.25951819 -0.48846499\n",
      " -1.12739125 -1.6359994  -0.50821771  0.23335832  0.0190163   0.04397471\n",
      " -0.66170198 -0.74256608  0.15562069  0.07973745  0.25361804  0.33211877\n",
      " -0.53944918 -0.53524926]\n"
     ]
    }
   ],
   "source": [
    "# Khởi tạo mô hình Linear Regression\n",
    "model = LinearRegression()\n",
    "\n",
    "# Huấn luyện mô hình\n",
    "model.fit(X_train, y_train)\n",
    "\n",
    "# In hệ số hồi quy\n",
    "print(\"Intercept:\", model.intercept_)\n",
    "print(\"Coefficients:\", model.coef_)"
   ]
  },
  {
   "cell_type": "code",
   "execution_count": 34,
   "id": "e7634f3e",
   "metadata": {},
   "outputs": [],
   "source": [
    "y_pred = model.predict(X_test)"
   ]
  },
  {
   "cell_type": "code",
   "execution_count": 35,
   "id": "5931239d",
   "metadata": {},
   "outputs": [
    {
     "name": "stdout",
     "output_type": "stream",
     "text": [
      "Mean Squared Error (MSE): 564.1588687416511\n",
      "R-squared (R2): -0.008178415149319385\n"
     ]
    }
   ],
   "source": [
    "mse = mean_squared_error(y_test, y_pred)\n",
    "r2 = r2_score(y_test, y_pred)\n",
    "\n",
    "print(\"Mean Squared Error (MSE):\", mse)\n",
    "print(\"R-squared (R2):\", r2)"
   ]
  }
 ],
 "metadata": {
  "kernelspec": {
   "display_name": "Python 3",
   "language": "python",
   "name": "python3"
  },
  "language_info": {
   "codemirror_mode": {
    "name": "ipython",
    "version": 3
   },
   "file_extension": ".py",
   "mimetype": "text/x-python",
   "name": "python",
   "nbconvert_exporter": "python",
   "pygments_lexer": "ipython3",
   "version": "3.13.2"
  }
 },
 "nbformat": 4,
 "nbformat_minor": 5
}
